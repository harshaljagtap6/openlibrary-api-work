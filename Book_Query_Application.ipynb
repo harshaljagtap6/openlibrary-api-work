{
 "cells": [
  {
   "cell_type": "code",
   "execution_count": 29,
   "metadata": {},
   "outputs": [
    {
     "name": "stdout",
     "output_type": "stream",
     "text": [
      "{'Economic and industrial life and relations': 1957, \"L'Histoire de Mes Expériences Avec La Vérité\": 2018, 'Mahatma Gandhi': 1960, 'Autobiography': 1791, 'Bhagavad Gita': 1944, 'My Non-Violence': 1975, 'Non-Violent Resistance': 2018, 'Guide to Health': 1825, 'Towards Non Violent Socialism': 1951, 'The Story of My Experiments with Truth': 1940, 'Autobiography or the Story of My Experiments with Truth': 1940, \"Gandhi's Autobiography\": 1949, 'Power of Nonviolent Resistance': 2019, 'Gandhi an Autobiography': 1949, 'Mohan-mālā (a Gandhian rosary)': 1982, 'Bir Özyaşam Gandhi': 2005, 'Aṇṇal Kānti malarañcali': 1970, 'Famous Speeches By Mahatma Gandhi': 2016, 'Gāndhī vyaṅgavinoda kośa': 2009, 'Semua manusia bersaudara': 1988, 'Voluntary Poverty': 1953, 'Gāndhījīne jagavandanā': 1944, 'A thought for the day': 1885, 'Conquest of self': 1993, 'Gandinin sȯzdȯru̇nȯn': 2003, 'Selected Writings Of Mahatma Gandhi': 1951, 'The Gandhi Reader; a Source Book of His Life and Writings': 1956, \"Freedom's Battle\": 1922, 'Hamah- ơi mardum bira darand': 1975, \"Gandhiji's dialogue with Christianity\": 1999, 'An autobiography': 1853, 'Sayings of Muhammad': 1954, 'Satya Hi Ishwar Hai सत्य ही ईश्वर है': 2021, \"Freedom's Battle - Being a Comprehensive Collection of Writings and Speeches on the Present Situation\": 2007, 'Guide de la SANT&#65533;': 2019, 'Non-violence in peace & war': 1942, 'The Mahatma and the missionary': 1949, 'Gandhi : an Autobiography : the Story of My Experiments with Truth': 2017, 'Thus spoke Gandhi': 2006, 'Mahatma Gandhi speaks of his religion': 1944, 'Letters to Sardar Vallabhbhai Patel': 1957, 'The Wheel of Fortune (Classic Reprint)': 2018, 'Anāsaktiyoga aura Gītābodha': 1932, 'Saca kā safaranāmā': 1995, 'Wo dui zhen li de shi yan': 2014, 'Hundred years of Gandhi': 1969, 'Sabako sanmati de': 1999}\n"
     ]
    }
   ],
   "source": [
    "import requests\n",
    "\n",
    "author_name = input().lower().replace(' ','+')\n",
    "resp = requests.get(f\"https://openlibrary.org/search/authors.json?q={author_name}\")\n",
    "info = resp.json()\n",
    "aut_key = info['docs'][0]['key']\n",
    "aut_works = requests.get(f\"https://openlibrary.org/authors/{aut_key}/works.json\")\n",
    "aut_works_info = aut_works.json()\n",
    "book_title_dict={}\n",
    "for i in range(50):\n",
    "    resp1 = requests.get(f\"http://openlibrary.org/search.json?title={aut_works_info['entries'][i]['title']}\")\n",
    "    info1 = resp1.json()\n",
    "    book_title_dict[aut_works_info['entries'][i]['title']] = info1['docs'][0]['first_publish_year']\n",
    "    \n",
    "print(book_title_dict)"
   ]
  },
  {
   "cell_type": "code",
   "execution_count": 34,
   "metadata": {},
   "outputs": [
    {
     "name": "stdout",
     "output_type": "stream",
     "text": [
      "Autobiography, 1791\n",
      "Guide to Health, 1825\n",
      "An autobiography, 1853\n",
      "A thought for the day, 1885\n",
      "Freedoms Battle, 1922\n"
     ]
    }
   ],
   "source": [
    "top = sorted(book_title_dict.items(), key=lambda kv: (kv[1], kv[0]))\n",
    "for i in range(5):\n",
    "    print(str(top[:5][i]).replace(\"'\", \"\").replace(\"(\", \"\").replace(\")\", \"\").replace('\"', ''))"
   ]
  }
 ],
 "metadata": {
  "kernelspec": {
   "display_name": "Python 3.10.6 64-bit",
   "language": "python",
   "name": "python3"
  },
  "language_info": {
   "codemirror_mode": {
    "name": "ipython",
    "version": 3
   },
   "file_extension": ".py",
   "mimetype": "text/x-python",
   "name": "python",
   "nbconvert_exporter": "python",
   "pygments_lexer": "ipython3",
   "version": "3.10.6"
  },
  "vscode": {
   "interpreter": {
    "hash": "916dbcbb3f70747c44a77c7bcd40155683ae19c65e1c03b4aa3499c5328201f1"
   }
  }
 },
 "nbformat": 4,
 "nbformat_minor": 2
}
