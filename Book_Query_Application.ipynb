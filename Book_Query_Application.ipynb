{
 "cells": [
  {
   "cell_type": "code",
   "execution_count": 1,
   "metadata": {},
   "outputs": [],
   "source": [
    "import requests\n",
    "resp = requests.get(\"http://openlibrary.org/search.json?title=to+kill+a+mockingbird\")"
   ]
  },
  {
   "cell_type": "code",
   "execution_count": 2,
   "metadata": {},
   "outputs": [],
   "source": [
    "info = resp.json() #info is a dictionary"
   ]
  },
  {
   "cell_type": "code",
   "execution_count": 3,
   "metadata": {},
   "outputs": [],
   "source": [
    "# import requests\n",
    "\n",
    "# book_name = input()\n",
    "# query_book = book_name.lower()\n",
    "# query_book = query_book.replace(' ','+')\n",
    "# #print(query_book)\n",
    "\n",
    "# resp = requests.get(f\"http://openlibrary.org/search.json?title={query_book}\")\n",
    "# info = resp.json()\n",
    "# author_name = info['docs'][0]['author_name'][0]\n",
    "# publishing_year = info['docs'][0]['first_publish_year']\n",
    "\n",
    "# print(f\"Author of {book_name} is {author_name}. It was first published in {publishing_year}\")"
   ]
  },
  {
   "cell_type": "code",
   "execution_count": 35,
   "metadata": {},
   "outputs": [
    {
     "name": "stdout",
     "output_type": "stream",
     "text": [
      "2005\n"
     ]
    }
   ],
   "source": [
    "\n",
    "# query_book = book_name.lower()\n",
    "# query_book = query_book.replace(' ','+')\n",
    "#print(query_book)\n",
    "\n",
    "import requests\n",
    "book_name = input().lower().replace(' ','+')\n",
    "resp = requests.get(f\"http://openlibrary.org/search.json?title={book_name}\")\n",
    "info = resp.json()\n",
    "print(info['docs'][0]['first_publish_year'])\n"
   ]
  },
  {
   "cell_type": "code",
   "execution_count": 5,
   "metadata": {},
   "outputs": [
    {
     "name": "stderr",
     "output_type": "stream",
     "text": [
      "C:\\Users\\harsh\\AppData\\Local\\Temp\\ipykernel_10176\\440302663.py:4: DtypeWarning: Columns (2) have mixed types. Specify dtype option on import or set low_memory=False.\n",
      "  rating = pd.read_csv(\"rating.csv\", sep=\"\\t\", header=None)\n"
     ]
    },
    {
     "data": {
      "text/html": [
       "<div>\n",
       "<style scoped>\n",
       "    .dataframe tbody tr th:only-of-type {\n",
       "        vertical-align: middle;\n",
       "    }\n",
       "\n",
       "    .dataframe tbody tr th {\n",
       "        vertical-align: top;\n",
       "    }\n",
       "\n",
       "    .dataframe thead th {\n",
       "        text-align: right;\n",
       "    }\n",
       "</style>\n",
       "<table border=\"1\" class=\"dataframe\">\n",
       "  <thead>\n",
       "    <tr style=\"text-align: right;\">\n",
       "      <th></th>\n",
       "      <th>0</th>\n",
       "      <th>1</th>\n",
       "      <th>2</th>\n",
       "      <th>3</th>\n",
       "    </tr>\n",
       "  </thead>\n",
       "  <tbody>\n",
       "    <tr>\n",
       "      <th>0</th>\n",
       "      <td>Works</td>\n",
       "      <td>Books</td>\n",
       "      <td>Rating</td>\n",
       "      <td>Date</td>\n",
       "    </tr>\n",
       "    <tr>\n",
       "      <th>1</th>\n",
       "      <td>/works/OL17882343W</td>\n",
       "      <td>NaN</td>\n",
       "      <td>3</td>\n",
       "      <td>2018-06-20</td>\n",
       "    </tr>\n",
       "    <tr>\n",
       "      <th>2</th>\n",
       "      <td>/works/OL1629179W</td>\n",
       "      <td>/books/OL22981670M</td>\n",
       "      <td>5</td>\n",
       "      <td>2018-06-20</td>\n",
       "    </tr>\n",
       "    <tr>\n",
       "      <th>3</th>\n",
       "      <td>/works/OL4226036W</td>\n",
       "      <td>/books/OL10690412M</td>\n",
       "      <td>5</td>\n",
       "      <td>2018-06-20</td>\n",
       "    </tr>\n",
       "    <tr>\n",
       "      <th>4</th>\n",
       "      <td>/works/OL5264255W</td>\n",
       "      <td>/books/OL2719185M</td>\n",
       "      <td>5</td>\n",
       "      <td>2018-06-20</td>\n",
       "    </tr>\n",
       "  </tbody>\n",
       "</table>\n",
       "</div>"
      ],
      "text/plain": [
       "                    0                   1       2           3\n",
       "0               Works               Books  Rating        Date\n",
       "1  /works/OL17882343W                 NaN       3  2018-06-20\n",
       "2   /works/OL1629179W  /books/OL22981670M       5  2018-06-20\n",
       "3   /works/OL4226036W  /books/OL10690412M       5  2018-06-20\n",
       "4   /works/OL5264255W   /books/OL2719185M       5  2018-06-20"
      ]
     },
     "execution_count": 5,
     "metadata": {},
     "output_type": "execute_result"
    }
   ],
   "source": [
    "import pandas as pd\n",
    "import numpy as np\n",
    "\n",
    "rating = pd.read_csv(\"rating.csv\", sep=\"\\t\", header=None)\n",
    "rating.head()"
   ]
  },
  {
   "cell_type": "code",
   "execution_count": 75,
   "metadata": {},
   "outputs": [],
   "source": [
    "import requests\n",
    "\n",
    "author_name = input().lower().replace(' ','+')\n",
    "resp = requests.get(f\"https://openlibrary.org/search/authors.json?q={author_name}\")\n",
    "info = resp.json()\n",
    "aut_key = info['docs'][0]['key']\n",
    "aut_works = requests.get(f\"https://openlibrary.org/authors/{aut_key}/works.json\")\n",
    "aut_works_info = aut_works.json()\n",
    "book_title_dict_t={}\n",
    "book_title_dict_p={}\n",
    "for i in range(50):\n",
    "    resp1 = requests.get(f\"http://openlibrary.org/search.json?title={aut_works_info['entries'][i]['title']}\")\n",
    "    info1 = resp1.json()\n",
    "    info1['docs'][0]['first_publish_year']\n",
    "    # book_title_dict['book_name'].append(aut_works_info['entries'][i]['title'])\n",
    "    # book_title_dict['publish_year'].append(info1['docs'][0]['first_publish_year'])\n",
    "    book_title_dict_t[(aut_works_info['entries'][i]['title'])] = (info1['docs'][0]['first_publish_year'])\n",
    "    book_title_dict_p[(info1['docs'][0]['first_publish_year'])] = (aut_works_info['entries'][i]['title'])"
   ]
  },
  {
   "cell_type": "code",
   "execution_count": 79,
   "metadata": {},
   "outputs": [
    {
     "name": "stdout",
     "output_type": "stream",
     "text": [
      "[1997, 1998, 1999, 1999, 2000, 2001, 2001, 2001, 2002, 2003, 2004, 2004, 2004, 2005, 2005, 2005, 2007, 2007, 2010, 2012, 2012, 2012, 2013, 2014, 2014, 2014, 2014, 2014, 2014, 2014, 2015, 2015, 2017, 2018, 2018, 2018, 2018, 2020, 2020, 2020, 2020, 2020, 2020, 2022, 2022, 2022, 2023]\n"
     ]
    }
   ],
   "source": [
    "# print(book_title_dict)\n",
    "# for i in sorted(book_title_dict.values()):\n",
    "#     print(i)\n",
    "print(sorted(book_title_dict_t.values()))"
   ]
  },
  {
   "cell_type": "code",
   "execution_count": 10,
   "metadata": {},
   "outputs": [
    {
     "name": "stdout",
     "output_type": "stream",
     "text": [
      "[{'title': 'Economic and industrial life and relations', 'covers': [8109187], 'key': '/works/OL17819241W', 'authors': [{'type': {'key': '/type/author_role'}, 'author': {'key': '/authors/OL891A'}}], 'type': {'key': '/type/work'}, 'latest_revision': 2, 'revision': 2, 'created': {'type': '/type/datetime', 'value': '2017-12-16T05:36:10.705206'}, 'last_modified': {'type': '/type/datetime', 'value': '2022-12-05T09:28:44.117383'}}, {'title': \"L'Histoire de Mes Expériences Avec La Vérité\", 'covers': [9202160], 'key': '/works/OL20560067W', 'authors': [{'type': {'key': '/type/author_role'}, 'author': {'key': '/authors/OL891A'}}, {'type': {'key': '/type/author_role'}, 'author': {'key': '/authors/OL7790552A'}}], 'type': {'key': '/type/work'}, 'latest_revision': 2, 'revision': 2, 'created': {'type': '/type/datetime', 'value': '2019-12-15T03:59:09.551115'}, 'last_modified': {'type': '/type/datetime', 'value': '2022-12-05T09:28:44.117383'}}, {'type': {'key': '/type/work'}, 'title': 'Mahatma Gandhi', 'authors': [{'type': {'key': '/type/author_role'}, 'author': {'key': '/authors/OL891A'}}, {'type': {'key': '/type/author_role'}, 'author': {'key': '/authors/OL204994A'}}], 'covers': [10904477], 'key': '/works/OL24373923W', 'latest_revision': 3, 'revision': 3, 'created': {'type': '/type/datetime', 'value': '2021-05-01T06:02:06.502410'}, 'last_modified': {'type': '/type/datetime', 'value': '2022-12-05T09:28:44.117383'}}, {'type': {'key': '/type/work'}, 'title': 'Autobiography', 'authors': [{'type': {'key': '/type/author_role'}, 'author': {'key': '/authors/OL891A'}}], 'key': '/works/OL29401094W', 'latest_revision': 2, 'revision': 2, 'created': {'type': '/type/datetime', 'value': '2022-11-18T19:55:32.098862'}, 'last_modified': {'type': '/type/datetime', 'value': '2022-12-05T09:28:44.117383'}}, {'type': {'key': '/type/work'}, 'title': 'Bhagavad Gita', 'authors': [{'type': {'key': '/type/author_role'}, 'author': {'key': '/authors/OL891A'}}], 'covers': [12350940], 'key': '/works/OL26402084W', 'latest_revision': 2, 'revision': 2, 'created': {'type': '/type/datetime', 'value': '2021-11-07T01:02:15.644553'}, 'last_modified': {'type': '/type/datetime', 'value': '2022-12-05T09:28:44.117383'}}, {'type': {'key': '/type/work'}, 'title': 'My Non-Violence', 'authors': [{'type': {'key': '/type/author_role'}, 'author': {'key': '/authors/OL891A'}}], 'key': '/works/OL30158683W', 'latest_revision': 2, 'revision': 2, 'created': {'type': '/type/datetime', 'value': '2022-11-25T19:41:41.159358'}, 'last_modified': {'type': '/type/datetime', 'value': '2022-12-04T22:14:31.859244'}}, {'type': {'key': '/type/work'}, 'title': 'Non-Violent Resistance', 'authors': [{'type': {'key': '/type/author_role'}, 'author': {'key': '/authors/OL891A'}}], 'key': '/works/OL28033463W', 'latest_revision': 2, 'revision': 2, 'created': {'type': '/type/datetime', 'value': '2022-06-18T10:09:56.946228'}, 'last_modified': {'type': '/type/datetime', 'value': '2022-12-04T22:14:31.859244'}}, {'type': {'key': '/type/work'}, 'title': 'Guide to Health', 'authors': [{'type': {'key': '/type/author_role'}, 'author': {'key': '/authors/OL891A'}}], 'key': '/works/OL28077267W', 'latest_revision': 2, 'revision': 2, 'created': {'type': '/type/datetime', 'value': '2022-06-19T02:25:09.647500'}, 'last_modified': {'type': '/type/datetime', 'value': '2022-12-04T22:14:31.859244'}}, {'type': {'key': '/type/work'}, 'title': 'Towards Non Violent Socialism', 'authors': [{'type': {'key': '/type/author_role'}, 'author': {'key': '/authors/OL891A'}}], 'key': '/works/OL27856049W', 'latest_revision': 2, 'revision': 2, 'created': {'type': '/type/datetime', 'value': '2022-05-26T12:16:30.766781'}, 'last_modified': {'type': '/type/datetime', 'value': '2022-12-04T22:14:31.859244'}}, {'title': 'Autobiography', 'subjects': ['Asia, history'], 'key': '/works/OL21210014W', 'authors': [{'type': {'key': '/type/author_role'}, 'author': {'key': '/authors/OL891A'}}, {'type': {'key': '/type/author_role'}, 'author': {'key': '/authors/OL4194807A'}}], 'type': {'key': '/type/work'}, 'latest_revision': 2, 'revision': 2, 'created': {'type': '/type/datetime', 'value': '2020-08-13T15:42:42.441707'}, 'last_modified': {'type': '/type/datetime', 'value': '2022-12-04T22:14:31.859244'}}, {'type': {'key': '/type/work'}, 'title': 'The Story of My Experiments with Truth', 'authors': [{'type': {'key': '/type/author_role'}, 'author': {'key': '/authors/OL891A'}}], 'covers': [11688831], 'key': '/works/OL24844839W', 'latest_revision': 2, 'revision': 2, 'created': {'type': '/type/datetime', 'value': '2021-08-18T07:51:05.419521'}, 'last_modified': {'type': '/type/datetime', 'value': '2022-12-04T22:14:31.859244'}}, {'title': 'Autobiography or the Story of My Experiments with Truth', 'subjects': ['Gandhi, mahatma, 1869-1948', 'Statesmen, biography', 'India, biography', 'Autobiography', 'Authorship', 'HISTORY / Asia / India & South Asia', 'Satyanā prayogo, athavā, ātmakathā (Gandhi, Mahatma)', 'Statesmen', 'Biography'], 'key': '/works/OL22537552W', 'authors': [{'type': {'key': '/type/author_role'}, 'author': {'key': '/authors/OL891A'}}, {'type': {'key': '/type/author_role'}, 'author': {'key': '/authors/OL4194807A'}}, {'type': {'key': '/type/author_role'}, 'author': {'key': '/authors/OL7629370A'}}], 'type': {'key': '/type/work'}, 'latest_revision': 4, 'revision': 4, 'created': {'type': '/type/datetime', 'value': '2020-10-11T15:08:42.224179'}, 'last_modified': {'type': '/type/datetime', 'value': '2022-12-17T18:06:12.822198'}}, {'title': \"Gandhi's Autobiography\", 'key': '/works/OL22016477W', 'authors': [{'type': {'key': '/type/author_role'}, 'author': {'key': '/authors/OL4194807A'}}, {'type': {'key': '/type/author_role'}, 'author': {'key': '/authors/OL891A'}}], 'type': {'key': '/type/work'}, 'latest_revision': 2, 'revision': 2, 'created': {'type': '/type/datetime', 'value': '2020-09-02T17:35:46.122042'}, 'last_modified': {'type': '/type/datetime', 'value': '2022-12-04T22:14:31.859244'}}, {'title': 'Power of Nonviolent Resistance', 'subjects': ['Sociology'], 'key': '/works/OL21209964W', 'authors': [{'type': {'key': '/type/author_role'}, 'author': {'key': '/authors/OL891A'}}, {'type': {'key': '/type/author_role'}, 'author': {'key': '/authors/OL7629370A'}}], 'type': {'key': '/type/work'}, 'latest_revision': 3, 'revision': 3, 'created': {'type': '/type/datetime', 'value': '2020-08-13T15:40:49.289011'}, 'last_modified': {'type': '/type/datetime', 'value': '2022-12-04T22:14:31.859244'}}, {'type': {'key': '/type/work'}, 'title': 'Gandhi an Autobiography', 'authors': [{'type': {'key': '/type/author_role'}, 'author': {'key': '/authors/OL891A'}}], 'key': '/works/OL26689322W', 'latest_revision': 2, 'revision': 2, 'created': {'type': '/type/datetime', 'value': '2021-12-28T15:10:41.751476'}, 'last_modified': {'type': '/type/datetime', 'value': '2022-12-04T21:59:43.921143'}}, {'subjects': ['Calendars'], 'key': '/works/OL17816499W', 'title': 'Mohan-mālā (a Gandhian rosary)', 'authors': [{'type': {'key': '/type/author_role'}, 'author': {'key': '/authors/OL891A'}}], 'type': {'key': '/type/work'}, 'covers': [8105451], 'latest_revision': 2, 'revision': 2, 'created': {'type': '/type/datetime', 'value': '2017-12-07T04:40:47.555430'}, 'last_modified': {'type': '/type/datetime', 'value': '2022-12-04T21:59:43.921143'}}, {'type': {'key': '/type/work'}, 'title': 'Bir Özyaşam Gandhi', 'authors': [{'type': {'key': '/type/author_role'}, 'author': {'key': '/authors/OL891A'}}], 'covers': [12114848], 'key': '/works/OL26156418W', 'latest_revision': 2, 'revision': 2, 'created': {'type': '/type/datetime', 'value': '2021-10-19T04:10:29.665168'}, 'last_modified': {'type': '/type/datetime', 'value': '2022-12-04T21:59:43.921143'}}, {'title': 'Aṇṇal Kānti malarañcali', 'subject_people': ['Gandhi Mahatma (1869-1948)'], 'key': '/works/OL22479429W', 'authors': [{'type': {'key': '/type/author_role'}, 'author': {'key': '/authors/OL891A'}}], 'type': {'key': '/type/work'}, 'latest_revision': 2, 'revision': 2, 'created': {'type': '/type/datetime', 'value': '2020-10-06T12:21:20.565470'}, 'last_modified': {'type': '/type/datetime', 'value': '2022-12-04T21:59:43.921143'}}, {'type': {'key': '/type/work'}, 'title': 'Famous Speeches By Mahatma Gandhi', 'authors': [{'type': {'key': '/type/author_role'}, 'author': {'key': '/authors/OL891A'}}], 'covers': [12052317], 'key': '/works/OL25820489W', 'latest_revision': 2, 'revision': 2, 'created': {'type': '/type/datetime', 'value': '2021-10-08T08:38:45.911586'}, 'last_modified': {'type': '/type/datetime', 'value': '2022-12-04T21:59:43.921143'}}, {'description': {'type': '/type/text', 'value': 'Compilation of anecdotes of satire and humor of Mahatma Gandhi.'}, 'key': '/works/OL23324615W', 'authors': [{'type': {'key': '/type/author_role'}, 'author': {'key': '/authors/OL891A'}}], 'title': 'Gāndhī vyaṅgavinoda kośa', 'subjects': ['Humor'], 'subject_people': ['Gandhi Mahatma (1869-1948)'], 'type': {'key': '/type/work'}, 'latest_revision': 2, 'revision': 2, 'created': {'type': '/type/datetime', 'value': '2020-11-14T07:49:40.400446'}, 'last_modified': {'type': '/type/datetime', 'value': '2022-12-04T21:59:43.921143'}}, {'covers': [8718720], 'key': '/works/OL19901622W', 'authors': [{'type': {'key': '/type/author_role'}, 'author': {'key': '/authors/OL891A'}}], 'title': 'Semua manusia bersaudara', 'subject_places': ['India'], 'subjects': ['Biography', 'Statesmen'], 'type': {'key': '/type/work'}, 'latest_revision': 2, 'revision': 2, 'created': {'type': '/type/datetime', 'value': '2019-07-07T04:32:41.489830'}, 'last_modified': {'type': '/type/datetime', 'value': '2022-12-04T21:59:43.921143'}}, {'title': 'Voluntary Poverty', 'key': '/works/OL15809969W', 'authors': [{'type': {'key': '/type/author_role'}, 'author': {'key': '/authors/OL891A'}}], 'type': {'key': '/type/work'}, 'latest_revision': 2, 'revision': 2, 'created': {'type': '/type/datetime', 'value': '2011-06-30T06:12:45.185581'}, 'last_modified': {'type': '/type/datetime', 'value': '2022-12-04T21:59:43.921143'}}, {'description': {'type': '/type/text', 'value': 'Collection of articles; published on his 70th birthday.'}, 'title': 'Gāndhījīne jagavandanā', 'subject_places': ['India'], 'subjects': ['Politics and government'], 'subject_people': ['Gandhi Mahatma (1869-1948)'], 'key': '/works/OL23635674W', 'authors': [{'type': {'key': '/type/author_role'}, 'author': {'key': '/authors/OL891A'}}], 'subject_times': ['1765-1947'], 'type': {'key': '/type/work'}, 'latest_revision': 2, 'revision': 2, 'created': {'type': '/type/datetime', 'value': '2020-11-25T14:41:09.635111'}, 'last_modified': {'type': '/type/datetime', 'value': '2022-12-04T21:59:43.921143'}}, {'title': 'A thought for the day', 'covers': [8178345], 'key': '/works/OL17871283W', 'authors': [{'type': {'key': '/type/author_role'}, 'author': {'key': '/authors/OL891A'}}], 'type': {'key': '/type/work'}, 'latest_revision': 2, 'revision': 2, 'created': {'type': '/type/datetime', 'value': '2018-05-24T05:00:42.307301'}, 'last_modified': {'type': '/type/datetime', 'value': '2022-12-04T21:59:43.921143'}}, {'subject_places': ['India'], 'subjects': ['Social conditions', 'Sexual ethics'], 'key': '/works/OL20960606W', 'title': 'Conquest of self', 'authors': [{'type': {'key': '/type/author_role'}, 'author': {'key': '/authors/OL891A'}}], 'type': {'key': '/type/work'}, 'covers': [10995073], 'latest_revision': 3, 'revision': 3, 'created': {'type': '/type/datetime', 'value': '2020-07-27T11:44:37.507288'}, 'last_modified': {'type': '/type/datetime', 'value': '2022-12-04T21:59:43.921143'}}, {'type': {'key': '/type/work'}, 'title': 'Gandinin sȯzdȯru̇nȯn', 'subjects': ['Quotations'], 'subject_people': ['Gandhi Mahatma (1869-1948)'], 'authors': [{'type': {'key': '/type/author_role'}, 'author': {'key': '/authors/OL891A'}}], 'key': '/works/OL23904927W', 'latest_revision': 2, 'revision': 2, 'created': {'type': '/type/datetime', 'value': '2020-12-10T13:30:39.753082'}, 'last_modified': {'type': '/type/datetime', 'value': '2022-12-04T21:59:43.921143'}}, {'title': 'Selected Writings Of Mahatma Gandhi', 'covers': [10099954], 'key': '/works/OL20802440W', 'authors': [{'type': {'key': '/type/author_role'}, 'author': {'key': '/authors/OL891A'}}, {'type': {'key': '/type/author_role'}, 'author': {'key': '/authors/OL5219968A'}}], 'type': {'key': '/type/work'}, 'latest_revision': 2, 'revision': 2, 'created': {'type': '/type/datetime', 'value': '2020-05-30T09:56:58.385299'}, 'last_modified': {'type': '/type/datetime', 'value': '2022-12-04T21:59:43.921143'}}, {'type': {'key': '/type/work'}, 'title': 'The Gandhi Reader; a Source Book of His Life and Writings', 'authors': [{'type': {'key': '/type/author_role'}, 'author': {'key': '/authors/OL891A'}}], 'key': '/works/OL31241656W', 'latest_revision': 2, 'revision': 2, 'created': {'type': '/type/datetime', 'value': '2022-12-04T12:35:49.604333'}, 'last_modified': {'type': '/type/datetime', 'value': '2022-12-04T21:59:43.921143'}}, {'type': {'key': '/type/work'}, 'title': \"Freedom's Battle\", 'authors': [{'type': {'key': '/type/author_role'}, 'author': {'key': '/authors/OL891A'}}], 'key': '/works/OL30431291W', 'latest_revision': 2, 'revision': 2, 'created': {'type': '/type/datetime', 'value': '2022-11-28T06:58:38.810061'}, 'last_modified': {'type': '/type/datetime', 'value': '2022-12-04T21:59:43.921143'}}, {'title': 'Hamah- ơi mardum bira darand', 'covers': [8050966], 'subject_places': ['India'], 'subjects': ['Biography', 'Statesmen'], 'subject_people': ['Gandhi Mahatma (1869-1948)'], 'key': '/works/OL17768083W', 'authors': [{'type': {'key': '/type/author_role'}, 'author': {'key': '/authors/OL891A'}}], 'type': {'key': '/type/work'}, 'latest_revision': 2, 'revision': 2, 'created': {'type': '/type/datetime', 'value': '2017-08-19T05:06:34.319453'}, 'last_modified': {'type': '/type/datetime', 'value': '2022-12-04T21:59:43.921143'}}, {'type': {'key': '/type/work'}, 'title': 'Guide to Health', 'authors': [{'type': {'key': '/type/author_role'}, 'author': {'key': '/authors/OL891A'}}], 'key': '/works/OL30236348W', 'latest_revision': 2, 'revision': 2, 'created': {'type': '/type/datetime', 'value': '2022-11-26T12:44:49.222395'}, 'last_modified': {'type': '/type/datetime', 'value': '2022-12-04T21:59:43.921143'}}, {'type': {'key': '/type/work'}, 'title': \"Gandhiji's dialogue with Christianity\", 'subjects': ['Religion'], 'subject_people': ['Gandhi Mahatma (1869-1948)'], 'authors': [{'type': {'key': '/type/author_role'}, 'author': {'key': '/authors/OL891A'}}], 'description': {'type': '/type/text', 'value': 'Contains statements, speeches, writings, and recorded conversations.'}, 'key': '/works/OL23772798W', 'latest_revision': 2, 'revision': 2, 'created': {'type': '/type/datetime', 'value': '2020-12-05T04:29:23.083066'}, 'last_modified': {'type': '/type/datetime', 'value': '2022-12-04T21:59:43.921143'}}, {'type': {'key': '/type/work'}, 'title': 'An autobiography', 'subjects': ['Statesmen', 'Biography'], 'subject_places': ['India'], 'subject_people': ['Gandhi Mahatma (1869-1948)'], 'authors': [{'type': {'key': '/type/author_role'}, 'author': {'key': '/authors/OL891A'}}], 'description': {'type': '/type/text', 'value': 'In his classic autobiography Gandhi recounts the story of his life and how he developed his concept of active nonviolent resistance, which propelled the Indian struggle for independence and countless other nonviolent struggles of the twentieth century.'}, 'covers': [10637171], 'key': '/works/OL24199551W', 'latest_revision': 2, 'revision': 2, 'created': {'type': '/type/datetime', 'value': '2021-02-13T06:56:23.345138'}, 'last_modified': {'type': '/type/datetime', 'value': '2022-12-04T21:59:43.921143'}}, {'type': {'key': '/type/work'}, 'title': 'Sayings of Muhammad', 'subjects': ['Muhammad, prophet, -632'], 'key': '/works/OL25354118W', 'authors': [{'type': {'key': '/type/author_role'}, 'author': {'key': '/authors/OL891A'}}], 'latest_revision': 2, 'revision': 2, 'created': {'type': '/type/datetime', 'value': '2021-09-29T02:15:51.176265'}, 'last_modified': {'type': '/type/datetime', 'value': '2022-12-04T21:59:43.921143'}}, {'type': {'key': '/type/work'}, 'title': 'Satya Hi Ishwar Hai सत्य ही ईश्वर है', 'authors': [{'type': {'key': '/type/author_role'}, 'author': {'key': '/authors/OL891A'}}], 'covers': [12082549], 'key': '/works/OL26130508W', 'latest_revision': 2, 'revision': 2, 'created': {'type': '/type/datetime', 'value': '2021-10-13T18:21:40.941243'}, 'last_modified': {'type': '/type/datetime', 'value': '2022-12-04T21:59:43.921143'}}, {'title': \"Freedom's Battle - Being a Comprehensive Collection of Writings and Speeches on the Present Situation\", 'covers': [9177234], 'key': '/works/OL20527171W', 'authors': [{'type': {'key': '/type/author_role'}, 'author': {'key': '/authors/OL891A'}}], 'type': {'key': '/type/work'}, 'latest_revision': 2, 'revision': 2, 'created': {'type': '/type/datetime', 'value': '2019-12-10T21:55:43.892539'}, 'last_modified': {'type': '/type/datetime', 'value': '2022-12-04T21:59:43.921143'}}, {'type': {'key': '/type/work'}, 'title': 'Guide de la SANT&#65533;', 'authors': [{'type': {'key': '/type/author_role'}, 'author': {'key': '/authors/OL11103904A'}}, {'type': {'key': '/type/author_role'}, 'author': {'key': '/authors/OL891A'}}], 'key': '/works/OL30272075W', 'latest_revision': 2, 'revision': 2, 'created': {'type': '/type/datetime', 'value': '2022-11-26T21:01:33.719525'}, 'last_modified': {'type': '/type/datetime', 'value': '2022-12-04T21:59:43.921143'}}, {'title': 'Non-violence in peace & war', 'covers': [8108878], 'subject_places': ['India'], 'subjects': ['Politics and government', 'World War (1939-1945) fast (OCoLC)fst01180924', 'World War, 1939-1945'], 'key': '/works/OL17819025W', 'authors': [{'type': {'key': '/type/author_role'}, 'author': {'key': '/authors/OL891A'}}], 'subject_times': ['1919-1947'], 'type': {'key': '/type/work'}, 'latest_revision': 2, 'revision': 2, 'created': {'type': '/type/datetime', 'value': '2017-12-16T04:50:00.965462'}, 'last_modified': {'type': '/type/datetime', 'value': '2022-12-04T21:59:43.921143'}}, {'key': '/works/OL21167846W', 'authors': [{'type': {'key': '/type/author_role'}, 'author': {'key': '/authors/OL891A'}}], 'title': 'The Mahatma and the missionary', 'subject_places': ['India'], 'subjects': ['Missions', 'Views on missions'], 'subject_people': ['Gandhi Mahatma (1869-1948)'], 'type': {'key': '/type/work'}, 'latest_revision': 2, 'revision': 2, 'created': {'type': '/type/datetime', 'value': '2020-08-09T23:12:37.599361'}, 'last_modified': {'type': '/type/datetime', 'value': '2022-12-04T21:59:43.921143'}}, {'type': {'key': '/type/work'}, 'title': 'Gandhi : an Autobiography : the Story of My Experiments with Truth', 'authors': [{'type': {'key': '/type/author_role'}, 'author': {'key': '/authors/OL10961930A'}}, {'type': {'key': '/type/author_role'}, 'author': {'key': '/authors/OL4194807A'}}, {'type': {'key': '/type/author_role'}, 'author': {'key': '/authors/OL891A'}}], 'key': '/works/OL29653600W', 'latest_revision': 2, 'revision': 2, 'created': {'type': '/type/datetime', 'value': '2022-11-21T07:55:24.911049'}, 'last_modified': {'type': '/type/datetime', 'value': '2022-12-04T21:59:43.921143'}}, {'type': {'key': '/type/work'}, 'title': 'Thus spoke Gandhi', 'subjects': ['Quotations', 'Citat', 'Politiker'], 'subject_places': ['Indien'], 'subject_times': ['1900-talet'], 'subject_people': ['Gandhi Mahatma (1869-1948)'], 'authors': [{'type': {'key': '/type/author_role'}, 'author': {'key': '/authors/OL891A'}}], 'covers': [12956999], 'key': '/works/OL29229127W', 'latest_revision': 2, 'revision': 2, 'created': {'type': '/type/datetime', 'value': '2022-10-20T08:42:35.385099'}, 'last_modified': {'type': '/type/datetime', 'value': '2022-12-04T21:59:43.921143'}}, {'title': 'Mahatma Gandhi speaks of his religion', 'subject_people': ['Gandhi Mahatma (1869-1948)'], 'key': '/works/OL20962428W', 'authors': [{'type': {'key': '/type/author_role'}, 'author': {'key': '/authors/OL891A'}}], 'type': {'key': '/type/work'}, 'covers': [10670497], 'latest_revision': 3, 'revision': 3, 'created': {'type': '/type/datetime', 'value': '2020-07-27T13:48:30.482101'}, 'last_modified': {'type': '/type/datetime', 'value': '2022-12-04T21:59:43.921143'}}, {'subject_people': ['Gandhi Mahatma (1869-1948)', 'Vallabhbhai Jhaverbhai Patel Sardar (1875-1950)'], 'key': '/works/OL17814694W', 'title': 'Letters to Sardar Vallabhbhai Patel', 'authors': [{'type': {'key': '/type/author_role'}, 'author': {'key': '/authors/OL891A'}}], 'type': {'key': '/type/work'}, 'covers': [8103237], 'latest_revision': 2, 'revision': 2, 'created': {'type': '/type/datetime', 'value': '2017-12-03T04:37:02.634848'}, 'last_modified': {'type': '/type/datetime', 'value': '2022-12-04T21:59:43.921143'}}, {'type': {'key': '/type/work'}, 'title': 'Mahatma Gandhi', 'authors': [{'type': {'key': '/type/author_role'}, 'author': {'key': '/authors/OL7624441A'}}, {'type': {'key': '/type/author_role'}, 'author': {'key': '/authors/OL891A'}}], 'key': '/works/OL30656293W', 'latest_revision': 2, 'revision': 2, 'created': {'type': '/type/datetime', 'value': '2022-11-30T07:31:39.027463'}, 'last_modified': {'type': '/type/datetime', 'value': '2022-12-04T21:59:43.921143'}}, {'title': 'The Wheel of Fortune (Classic Reprint)', 'covers': [8589466], 'key': '/works/OL19783083W', 'authors': [{'type': {'key': '/type/author_role'}, 'author': {'key': '/authors/OL891A'}}], 'type': {'key': '/type/work'}, 'latest_revision': 2, 'revision': 2, 'created': {'type': '/type/datetime', 'value': '2019-06-06T03:29:57.387909'}, 'last_modified': {'type': '/type/datetime', 'value': '2022-12-04T21:59:43.921143'}}, {'description': {'type': '/type/text', 'value': \"Translation of Mahatma Gandhi's Gujarati rendering of the Bhagavadgita.\"}, 'title': 'Anāsaktiyoga aura Gītābodha', 'key': '/works/OL23667335W', 'authors': [{'type': {'key': '/type/author_role'}, 'author': {'key': '/authors/OL891A'}}], 'type': {'key': '/type/work'}, 'latest_revision': 2, 'revision': 2, 'created': {'type': '/type/datetime', 'value': '2020-11-27T09:53:20.529128'}, 'last_modified': {'type': '/type/datetime', 'value': '2022-12-04T21:59:43.921143'}}, {'description': {'type': '/type/text', 'value': 'Contributed articles on the philosophy of Ghāsidāsa, b. 1756, Hindu religious leader and Mahatma Gandhi, 1869-1948, statesman and freedom fighter; published on the occasion of the 125th birth anniversary of Mahatma Gandhi, 1869-1948.'}, 'title': 'Saca kā safaranāmā', 'subject_places': ['India'], 'subjects': ['Passive resistance', 'Philosophy'], 'subject_people': ['Gandhi Mahatma (1869-1948)', 'Ghāsīdāsa (1756-)'], 'key': '/works/OL23666140W', 'authors': [{'type': {'key': '/type/author_role'}, 'author': {'key': '/authors/OL891A'}}], 'type': {'key': '/type/work'}, 'latest_revision': 2, 'revision': 2, 'created': {'type': '/type/datetime', 'value': '2020-11-27T08:20:21.267967'}, 'last_modified': {'type': '/type/datetime', 'value': '2022-12-04T21:59:43.921143'}}, {'key': '/works/OL19979430W', 'authors': [{'type': {'key': '/type/author_role'}, 'author': {'key': '/authors/OL891A'}}], 'title': 'Wo dui zhen li de shi yan', 'subject_places': ['India'], 'subjects': ['Biography', 'Statesmen'], 'subject_people': ['Gandhi Mahatma (1869-1948)'], 'type': {'key': '/type/work'}, 'latest_revision': 2, 'revision': 2, 'created': {'type': '/type/datetime', 'value': '2019-07-18T12:24:06.859402'}, 'last_modified': {'type': '/type/datetime', 'value': '2022-12-04T21:59:43.921143'}}, {'title': 'Hundred years of Gandhi', 'subject_people': ['Gandhi Mahatma (1869-1948)'], 'key': '/works/OL22584155W', 'authors': [{'type': {'key': '/type/author_role'}, 'author': {'key': '/authors/OL891A'}}, {'type': {'key': '/type/author_role'}, 'author': {'key': '/authors/OL375426A'}}], 'type': {'key': '/type/work'}, 'latest_revision': 2, 'revision': 2, 'created': {'type': '/type/datetime', 'value': '2020-10-14T21:53:24.214182'}, 'last_modified': {'type': '/type/datetime', 'value': '2022-12-04T21:59:43.921143'}}, {'description': {'type': '/type/text', 'value': 'Summary of an inter-religious conference held on 30th January 1999 at Gandhi Smriti and Darshan Samiti; transcript of speeches on the religious views of Mahatma Gandhi, 1869-1948, statesman and on the various religions practised in India.'}, 'title': 'Sabako sanmati de', 'subject_places': ['India'], 'subjects': ['Religion', 'Congresses'], 'subject_people': ['Gandhi Mahatma (1869-1948)'], 'key': '/works/OL22097584W', 'authors': [{'type': {'key': '/type/author_role'}, 'author': {'key': '/authors/OL891A'}}], 'type': {'key': '/type/work'}, 'latest_revision': 2, 'revision': 2, 'created': {'type': '/type/datetime', 'value': '2020-09-13T08:01:47.783108'}, 'last_modified': {'type': '/type/datetime', 'value': '2022-12-04T21:59:43.921143'}}]\n"
     ]
    }
   ],
   "source": [
    "print(aut_works_info['entries'])"
   ]
  },
  {
   "cell_type": "code",
   "execution_count": 12,
   "metadata": {},
   "outputs": [
    {
     "name": "stdout",
     "output_type": "stream",
     "text": [
      "{'numFound': 7, 'start': 0, 'numFoundExact': True, 'docs': [{'key': 'OL891A', 'type': 'author', 'name': 'Mohandas Karamchand Gandhi', 'alternate_names': ['Mahatma Gandhi', 'Mohandas Karamchand Gandhi', 'M.K Gandhi', 'M. K. Gandhi', 'M. K Gandhi', 'Mohandas K. Gandhi', 'M.K. Gandhi', 'Gandhi Mahatma', 'M K. Gandhi', 'Gandhi, Mohardas Karamchand Mahatma.', 'Gandhi, Mahatma/ Davidson, Frederick (NRT)', 'GANDHI, Mohandas Karamchand Mahatma.', 'Mohandas Karamchand Mahatma Gandhi', 'Mohandas Karamchand (Mahatma) Gandhi', 'Mahatma Gandi', 'Mahatma Gandhi Mohandas K', 'Mahatma K. Gandhi', 'Gandhi Mahatma 1869-1948', 'Mohandas ( Mahatma ) Gandhi'], 'birth_date': 'October 2, 1869', 'death_date': '30 January, 1948', 'top_work': 'The collected works of Mahatma Gandhi', 'work_count': 666, 'top_subjects': ['India', 'Gandhi Mahatma (1869-1948)', 'Politics and government', '1919-1947', 'Statesmen', 'Biography', 'Accessible book', 'History', 'Correspondence', 'Gandhi, mahatma, 1869-1948'], '_version_': 1751597871193391115}, {'key': 'OL8136225A', 'type': 'author', 'name': 'Mohandas Karamchand Gandhi', 'top_work': 'The Collected Works Of Mahatma Gandhi', 'work_count': 4, 'top_subjects': ['Gandhi, mahatma, 1869-1948', 'Statesmen, juvenile literature', 'Statesmen, india', 'Statesmen, biography', 'Statesmen', 'Juvenile literature', 'India, juvenile literature', 'India, history', 'Gandhi, mahatma, 1869-1948, juvenile literature', 'Biography'], '_version_': 1735711328719339521}, {'key': 'OL7172371A', 'type': 'author', 'name': 'Mohandas Karamchand Gandhi Transleted dularam saharan', 'top_work': 'Hind Sawaraj', 'work_count': 1, '_version_': 1735707789977714691}, {'key': 'OL9951994A', 'type': 'author', 'name': 'MOHANDAS KARAMCHAND GANDHI', 'top_work': 'EL HOMBRE FRENTE A LA MAQUINA', 'work_count': 1, '_version_': 1735718173697638410}, {'key': 'OL9818625A', 'type': 'author', 'name': 'Mohandas Gandhi Karamchand', 'top_work': 'Hind Swaraj', 'work_count': 1, '_version_': 1735717251405840397}, {'key': 'OL7400845A', 'type': 'author', 'name': 'Mohandas Karamchand Gandhi, Zhong Jei (Translator), and Rahul Guhathakurta (Illustrator)', 'work_count': 0, '_version_': 1735708334458142733}, {'key': 'OL11679565A', 'type': 'author', 'name': 'MohanDas Karamchand Gandhi', 'work_count': 0, '_version_': 1752073406686167044}]}\n"
     ]
    }
   ],
   "source": [
    "print(info)"
   ]
  },
  {
   "cell_type": "code",
   "execution_count": 14,
   "metadata": {},
   "outputs": [
    {
     "name": "stdout",
     "output_type": "stream",
     "text": [
      "{'links': {'self': '/authors/OL891A/works.json', 'author': '/authors/OL891A', 'next': '/authors/OL891A/works.json?offset=50'}, 'size': 666, 'entries': [{'title': 'Economic and industrial life and relations', 'covers': [8109187], 'key': '/works/OL17819241W', 'authors': [{'type': {'key': '/type/author_role'}, 'author': {'key': '/authors/OL891A'}}], 'type': {'key': '/type/work'}, 'latest_revision': 2, 'revision': 2, 'created': {'type': '/type/datetime', 'value': '2017-12-16T05:36:10.705206'}, 'last_modified': {'type': '/type/datetime', 'value': '2022-12-05T09:28:44.117383'}}, {'title': \"L'Histoire de Mes Expériences Avec La Vérité\", 'covers': [9202160], 'key': '/works/OL20560067W', 'authors': [{'type': {'key': '/type/author_role'}, 'author': {'key': '/authors/OL891A'}}, {'type': {'key': '/type/author_role'}, 'author': {'key': '/authors/OL7790552A'}}], 'type': {'key': '/type/work'}, 'latest_revision': 2, 'revision': 2, 'created': {'type': '/type/datetime', 'value': '2019-12-15T03:59:09.551115'}, 'last_modified': {'type': '/type/datetime', 'value': '2022-12-05T09:28:44.117383'}}, {'type': {'key': '/type/work'}, 'title': 'Mahatma Gandhi', 'authors': [{'type': {'key': '/type/author_role'}, 'author': {'key': '/authors/OL891A'}}, {'type': {'key': '/type/author_role'}, 'author': {'key': '/authors/OL204994A'}}], 'covers': [10904477], 'key': '/works/OL24373923W', 'latest_revision': 3, 'revision': 3, 'created': {'type': '/type/datetime', 'value': '2021-05-01T06:02:06.502410'}, 'last_modified': {'type': '/type/datetime', 'value': '2022-12-05T09:28:44.117383'}}, {'type': {'key': '/type/work'}, 'title': 'Autobiography', 'authors': [{'type': {'key': '/type/author_role'}, 'author': {'key': '/authors/OL891A'}}], 'key': '/works/OL29401094W', 'latest_revision': 2, 'revision': 2, 'created': {'type': '/type/datetime', 'value': '2022-11-18T19:55:32.098862'}, 'last_modified': {'type': '/type/datetime', 'value': '2022-12-05T09:28:44.117383'}}, {'type': {'key': '/type/work'}, 'title': 'Bhagavad Gita', 'authors': [{'type': {'key': '/type/author_role'}, 'author': {'key': '/authors/OL891A'}}], 'covers': [12350940], 'key': '/works/OL26402084W', 'latest_revision': 2, 'revision': 2, 'created': {'type': '/type/datetime', 'value': '2021-11-07T01:02:15.644553'}, 'last_modified': {'type': '/type/datetime', 'value': '2022-12-05T09:28:44.117383'}}, {'type': {'key': '/type/work'}, 'title': 'My Non-Violence', 'authors': [{'type': {'key': '/type/author_role'}, 'author': {'key': '/authors/OL891A'}}], 'key': '/works/OL30158683W', 'latest_revision': 2, 'revision': 2, 'created': {'type': '/type/datetime', 'value': '2022-11-25T19:41:41.159358'}, 'last_modified': {'type': '/type/datetime', 'value': '2022-12-04T22:14:31.859244'}}, {'type': {'key': '/type/work'}, 'title': 'Non-Violent Resistance', 'authors': [{'type': {'key': '/type/author_role'}, 'author': {'key': '/authors/OL891A'}}], 'key': '/works/OL28033463W', 'latest_revision': 2, 'revision': 2, 'created': {'type': '/type/datetime', 'value': '2022-06-18T10:09:56.946228'}, 'last_modified': {'type': '/type/datetime', 'value': '2022-12-04T22:14:31.859244'}}, {'type': {'key': '/type/work'}, 'title': 'Guide to Health', 'authors': [{'type': {'key': '/type/author_role'}, 'author': {'key': '/authors/OL891A'}}], 'key': '/works/OL28077267W', 'latest_revision': 2, 'revision': 2, 'created': {'type': '/type/datetime', 'value': '2022-06-19T02:25:09.647500'}, 'last_modified': {'type': '/type/datetime', 'value': '2022-12-04T22:14:31.859244'}}, {'type': {'key': '/type/work'}, 'title': 'Towards Non Violent Socialism', 'authors': [{'type': {'key': '/type/author_role'}, 'author': {'key': '/authors/OL891A'}}], 'key': '/works/OL27856049W', 'latest_revision': 2, 'revision': 2, 'created': {'type': '/type/datetime', 'value': '2022-05-26T12:16:30.766781'}, 'last_modified': {'type': '/type/datetime', 'value': '2022-12-04T22:14:31.859244'}}, {'title': 'Autobiography', 'subjects': ['Asia, history'], 'key': '/works/OL21210014W', 'authors': [{'type': {'key': '/type/author_role'}, 'author': {'key': '/authors/OL891A'}}, {'type': {'key': '/type/author_role'}, 'author': {'key': '/authors/OL4194807A'}}], 'type': {'key': '/type/work'}, 'latest_revision': 2, 'revision': 2, 'created': {'type': '/type/datetime', 'value': '2020-08-13T15:42:42.441707'}, 'last_modified': {'type': '/type/datetime', 'value': '2022-12-04T22:14:31.859244'}}, {'type': {'key': '/type/work'}, 'title': 'The Story of My Experiments with Truth', 'authors': [{'type': {'key': '/type/author_role'}, 'author': {'key': '/authors/OL891A'}}], 'covers': [11688831], 'key': '/works/OL24844839W', 'latest_revision': 2, 'revision': 2, 'created': {'type': '/type/datetime', 'value': '2021-08-18T07:51:05.419521'}, 'last_modified': {'type': '/type/datetime', 'value': '2022-12-04T22:14:31.859244'}}, {'title': 'Autobiography or the Story of My Experiments with Truth', 'subjects': ['Gandhi, mahatma, 1869-1948', 'Statesmen, biography', 'India, biography', 'Autobiography', 'Authorship', 'HISTORY / Asia / India & South Asia', 'Satyanā prayogo, athavā, ātmakathā (Gandhi, Mahatma)', 'Statesmen', 'Biography'], 'key': '/works/OL22537552W', 'authors': [{'type': {'key': '/type/author_role'}, 'author': {'key': '/authors/OL891A'}}, {'type': {'key': '/type/author_role'}, 'author': {'key': '/authors/OL4194807A'}}, {'type': {'key': '/type/author_role'}, 'author': {'key': '/authors/OL7629370A'}}], 'type': {'key': '/type/work'}, 'latest_revision': 4, 'revision': 4, 'created': {'type': '/type/datetime', 'value': '2020-10-11T15:08:42.224179'}, 'last_modified': {'type': '/type/datetime', 'value': '2022-12-17T18:06:12.822198'}}, {'title': \"Gandhi's Autobiography\", 'key': '/works/OL22016477W', 'authors': [{'type': {'key': '/type/author_role'}, 'author': {'key': '/authors/OL4194807A'}}, {'type': {'key': '/type/author_role'}, 'author': {'key': '/authors/OL891A'}}], 'type': {'key': '/type/work'}, 'latest_revision': 2, 'revision': 2, 'created': {'type': '/type/datetime', 'value': '2020-09-02T17:35:46.122042'}, 'last_modified': {'type': '/type/datetime', 'value': '2022-12-04T22:14:31.859244'}}, {'title': 'Power of Nonviolent Resistance', 'subjects': ['Sociology'], 'key': '/works/OL21209964W', 'authors': [{'type': {'key': '/type/author_role'}, 'author': {'key': '/authors/OL891A'}}, {'type': {'key': '/type/author_role'}, 'author': {'key': '/authors/OL7629370A'}}], 'type': {'key': '/type/work'}, 'latest_revision': 3, 'revision': 3, 'created': {'type': '/type/datetime', 'value': '2020-08-13T15:40:49.289011'}, 'last_modified': {'type': '/type/datetime', 'value': '2022-12-04T22:14:31.859244'}}, {'type': {'key': '/type/work'}, 'title': 'Gandhi an Autobiography', 'authors': [{'type': {'key': '/type/author_role'}, 'author': {'key': '/authors/OL891A'}}], 'key': '/works/OL26689322W', 'latest_revision': 2, 'revision': 2, 'created': {'type': '/type/datetime', 'value': '2021-12-28T15:10:41.751476'}, 'last_modified': {'type': '/type/datetime', 'value': '2022-12-04T21:59:43.921143'}}, {'subjects': ['Calendars'], 'key': '/works/OL17816499W', 'title': 'Mohan-mālā (a Gandhian rosary)', 'authors': [{'type': {'key': '/type/author_role'}, 'author': {'key': '/authors/OL891A'}}], 'type': {'key': '/type/work'}, 'covers': [8105451], 'latest_revision': 2, 'revision': 2, 'created': {'type': '/type/datetime', 'value': '2017-12-07T04:40:47.555430'}, 'last_modified': {'type': '/type/datetime', 'value': '2022-12-04T21:59:43.921143'}}, {'type': {'key': '/type/work'}, 'title': 'Bir Özyaşam Gandhi', 'authors': [{'type': {'key': '/type/author_role'}, 'author': {'key': '/authors/OL891A'}}], 'covers': [12114848], 'key': '/works/OL26156418W', 'latest_revision': 2, 'revision': 2, 'created': {'type': '/type/datetime', 'value': '2021-10-19T04:10:29.665168'}, 'last_modified': {'type': '/type/datetime', 'value': '2022-12-04T21:59:43.921143'}}, {'title': 'Aṇṇal Kānti malarañcali', 'subject_people': ['Gandhi Mahatma (1869-1948)'], 'key': '/works/OL22479429W', 'authors': [{'type': {'key': '/type/author_role'}, 'author': {'key': '/authors/OL891A'}}], 'type': {'key': '/type/work'}, 'latest_revision': 2, 'revision': 2, 'created': {'type': '/type/datetime', 'value': '2020-10-06T12:21:20.565470'}, 'last_modified': {'type': '/type/datetime', 'value': '2022-12-04T21:59:43.921143'}}, {'type': {'key': '/type/work'}, 'title': 'Famous Speeches By Mahatma Gandhi', 'authors': [{'type': {'key': '/type/author_role'}, 'author': {'key': '/authors/OL891A'}}], 'covers': [12052317], 'key': '/works/OL25820489W', 'latest_revision': 2, 'revision': 2, 'created': {'type': '/type/datetime', 'value': '2021-10-08T08:38:45.911586'}, 'last_modified': {'type': '/type/datetime', 'value': '2022-12-04T21:59:43.921143'}}, {'description': {'type': '/type/text', 'value': 'Compilation of anecdotes of satire and humor of Mahatma Gandhi.'}, 'key': '/works/OL23324615W', 'authors': [{'type': {'key': '/type/author_role'}, 'author': {'key': '/authors/OL891A'}}], 'title': 'Gāndhī vyaṅgavinoda kośa', 'subjects': ['Humor'], 'subject_people': ['Gandhi Mahatma (1869-1948)'], 'type': {'key': '/type/work'}, 'latest_revision': 2, 'revision': 2, 'created': {'type': '/type/datetime', 'value': '2020-11-14T07:49:40.400446'}, 'last_modified': {'type': '/type/datetime', 'value': '2022-12-04T21:59:43.921143'}}, {'covers': [8718720], 'key': '/works/OL19901622W', 'authors': [{'type': {'key': '/type/author_role'}, 'author': {'key': '/authors/OL891A'}}], 'title': 'Semua manusia bersaudara', 'subject_places': ['India'], 'subjects': ['Biography', 'Statesmen'], 'type': {'key': '/type/work'}, 'latest_revision': 2, 'revision': 2, 'created': {'type': '/type/datetime', 'value': '2019-07-07T04:32:41.489830'}, 'last_modified': {'type': '/type/datetime', 'value': '2022-12-04T21:59:43.921143'}}, {'title': 'Voluntary Poverty', 'key': '/works/OL15809969W', 'authors': [{'type': {'key': '/type/author_role'}, 'author': {'key': '/authors/OL891A'}}], 'type': {'key': '/type/work'}, 'latest_revision': 2, 'revision': 2, 'created': {'type': '/type/datetime', 'value': '2011-06-30T06:12:45.185581'}, 'last_modified': {'type': '/type/datetime', 'value': '2022-12-04T21:59:43.921143'}}, {'description': {'type': '/type/text', 'value': 'Collection of articles; published on his 70th birthday.'}, 'title': 'Gāndhījīne jagavandanā', 'subject_places': ['India'], 'subjects': ['Politics and government'], 'subject_people': ['Gandhi Mahatma (1869-1948)'], 'key': '/works/OL23635674W', 'authors': [{'type': {'key': '/type/author_role'}, 'author': {'key': '/authors/OL891A'}}], 'subject_times': ['1765-1947'], 'type': {'key': '/type/work'}, 'latest_revision': 2, 'revision': 2, 'created': {'type': '/type/datetime', 'value': '2020-11-25T14:41:09.635111'}, 'last_modified': {'type': '/type/datetime', 'value': '2022-12-04T21:59:43.921143'}}, {'title': 'A thought for the day', 'covers': [8178345], 'key': '/works/OL17871283W', 'authors': [{'type': {'key': '/type/author_role'}, 'author': {'key': '/authors/OL891A'}}], 'type': {'key': '/type/work'}, 'latest_revision': 2, 'revision': 2, 'created': {'type': '/type/datetime', 'value': '2018-05-24T05:00:42.307301'}, 'last_modified': {'type': '/type/datetime', 'value': '2022-12-04T21:59:43.921143'}}, {'subject_places': ['India'], 'subjects': ['Social conditions', 'Sexual ethics'], 'key': '/works/OL20960606W', 'title': 'Conquest of self', 'authors': [{'type': {'key': '/type/author_role'}, 'author': {'key': '/authors/OL891A'}}], 'type': {'key': '/type/work'}, 'covers': [10995073], 'latest_revision': 3, 'revision': 3, 'created': {'type': '/type/datetime', 'value': '2020-07-27T11:44:37.507288'}, 'last_modified': {'type': '/type/datetime', 'value': '2022-12-04T21:59:43.921143'}}, {'type': {'key': '/type/work'}, 'title': 'Gandinin sȯzdȯru̇nȯn', 'subjects': ['Quotations'], 'subject_people': ['Gandhi Mahatma (1869-1948)'], 'authors': [{'type': {'key': '/type/author_role'}, 'author': {'key': '/authors/OL891A'}}], 'key': '/works/OL23904927W', 'latest_revision': 2, 'revision': 2, 'created': {'type': '/type/datetime', 'value': '2020-12-10T13:30:39.753082'}, 'last_modified': {'type': '/type/datetime', 'value': '2022-12-04T21:59:43.921143'}}, {'title': 'Selected Writings Of Mahatma Gandhi', 'covers': [10099954], 'key': '/works/OL20802440W', 'authors': [{'type': {'key': '/type/author_role'}, 'author': {'key': '/authors/OL891A'}}, {'type': {'key': '/type/author_role'}, 'author': {'key': '/authors/OL5219968A'}}], 'type': {'key': '/type/work'}, 'latest_revision': 2, 'revision': 2, 'created': {'type': '/type/datetime', 'value': '2020-05-30T09:56:58.385299'}, 'last_modified': {'type': '/type/datetime', 'value': '2022-12-04T21:59:43.921143'}}, {'type': {'key': '/type/work'}, 'title': 'The Gandhi Reader; a Source Book of His Life and Writings', 'authors': [{'type': {'key': '/type/author_role'}, 'author': {'key': '/authors/OL891A'}}], 'key': '/works/OL31241656W', 'latest_revision': 2, 'revision': 2, 'created': {'type': '/type/datetime', 'value': '2022-12-04T12:35:49.604333'}, 'last_modified': {'type': '/type/datetime', 'value': '2022-12-04T21:59:43.921143'}}, {'type': {'key': '/type/work'}, 'title': \"Freedom's Battle\", 'authors': [{'type': {'key': '/type/author_role'}, 'author': {'key': '/authors/OL891A'}}], 'key': '/works/OL30431291W', 'latest_revision': 2, 'revision': 2, 'created': {'type': '/type/datetime', 'value': '2022-11-28T06:58:38.810061'}, 'last_modified': {'type': '/type/datetime', 'value': '2022-12-04T21:59:43.921143'}}, {'title': 'Hamah- ơi mardum bira darand', 'covers': [8050966], 'subject_places': ['India'], 'subjects': ['Biography', 'Statesmen'], 'subject_people': ['Gandhi Mahatma (1869-1948)'], 'key': '/works/OL17768083W', 'authors': [{'type': {'key': '/type/author_role'}, 'author': {'key': '/authors/OL891A'}}], 'type': {'key': '/type/work'}, 'latest_revision': 2, 'revision': 2, 'created': {'type': '/type/datetime', 'value': '2017-08-19T05:06:34.319453'}, 'last_modified': {'type': '/type/datetime', 'value': '2022-12-04T21:59:43.921143'}}, {'type': {'key': '/type/work'}, 'title': 'Guide to Health', 'authors': [{'type': {'key': '/type/author_role'}, 'author': {'key': '/authors/OL891A'}}], 'key': '/works/OL30236348W', 'latest_revision': 2, 'revision': 2, 'created': {'type': '/type/datetime', 'value': '2022-11-26T12:44:49.222395'}, 'last_modified': {'type': '/type/datetime', 'value': '2022-12-04T21:59:43.921143'}}, {'type': {'key': '/type/work'}, 'title': \"Gandhiji's dialogue with Christianity\", 'subjects': ['Religion'], 'subject_people': ['Gandhi Mahatma (1869-1948)'], 'authors': [{'type': {'key': '/type/author_role'}, 'author': {'key': '/authors/OL891A'}}], 'description': {'type': '/type/text', 'value': 'Contains statements, speeches, writings, and recorded conversations.'}, 'key': '/works/OL23772798W', 'latest_revision': 2, 'revision': 2, 'created': {'type': '/type/datetime', 'value': '2020-12-05T04:29:23.083066'}, 'last_modified': {'type': '/type/datetime', 'value': '2022-12-04T21:59:43.921143'}}, {'type': {'key': '/type/work'}, 'title': 'An autobiography', 'subjects': ['Statesmen', 'Biography'], 'subject_places': ['India'], 'subject_people': ['Gandhi Mahatma (1869-1948)'], 'authors': [{'type': {'key': '/type/author_role'}, 'author': {'key': '/authors/OL891A'}}], 'description': {'type': '/type/text', 'value': 'In his classic autobiography Gandhi recounts the story of his life and how he developed his concept of active nonviolent resistance, which propelled the Indian struggle for independence and countless other nonviolent struggles of the twentieth century.'}, 'covers': [10637171], 'key': '/works/OL24199551W', 'latest_revision': 2, 'revision': 2, 'created': {'type': '/type/datetime', 'value': '2021-02-13T06:56:23.345138'}, 'last_modified': {'type': '/type/datetime', 'value': '2022-12-04T21:59:43.921143'}}, {'type': {'key': '/type/work'}, 'title': 'Sayings of Muhammad', 'subjects': ['Muhammad, prophet, -632'], 'key': '/works/OL25354118W', 'authors': [{'type': {'key': '/type/author_role'}, 'author': {'key': '/authors/OL891A'}}], 'latest_revision': 2, 'revision': 2, 'created': {'type': '/type/datetime', 'value': '2021-09-29T02:15:51.176265'}, 'last_modified': {'type': '/type/datetime', 'value': '2022-12-04T21:59:43.921143'}}, {'type': {'key': '/type/work'}, 'title': 'Satya Hi Ishwar Hai सत्य ही ईश्वर है', 'authors': [{'type': {'key': '/type/author_role'}, 'author': {'key': '/authors/OL891A'}}], 'covers': [12082549], 'key': '/works/OL26130508W', 'latest_revision': 2, 'revision': 2, 'created': {'type': '/type/datetime', 'value': '2021-10-13T18:21:40.941243'}, 'last_modified': {'type': '/type/datetime', 'value': '2022-12-04T21:59:43.921143'}}, {'title': \"Freedom's Battle - Being a Comprehensive Collection of Writings and Speeches on the Present Situation\", 'covers': [9177234], 'key': '/works/OL20527171W', 'authors': [{'type': {'key': '/type/author_role'}, 'author': {'key': '/authors/OL891A'}}], 'type': {'key': '/type/work'}, 'latest_revision': 2, 'revision': 2, 'created': {'type': '/type/datetime', 'value': '2019-12-10T21:55:43.892539'}, 'last_modified': {'type': '/type/datetime', 'value': '2022-12-04T21:59:43.921143'}}, {'type': {'key': '/type/work'}, 'title': 'Guide de la SANT&#65533;', 'authors': [{'type': {'key': '/type/author_role'}, 'author': {'key': '/authors/OL11103904A'}}, {'type': {'key': '/type/author_role'}, 'author': {'key': '/authors/OL891A'}}], 'key': '/works/OL30272075W', 'latest_revision': 2, 'revision': 2, 'created': {'type': '/type/datetime', 'value': '2022-11-26T21:01:33.719525'}, 'last_modified': {'type': '/type/datetime', 'value': '2022-12-04T21:59:43.921143'}}, {'title': 'Non-violence in peace & war', 'covers': [8108878], 'subject_places': ['India'], 'subjects': ['Politics and government', 'World War (1939-1945) fast (OCoLC)fst01180924', 'World War, 1939-1945'], 'key': '/works/OL17819025W', 'authors': [{'type': {'key': '/type/author_role'}, 'author': {'key': '/authors/OL891A'}}], 'subject_times': ['1919-1947'], 'type': {'key': '/type/work'}, 'latest_revision': 2, 'revision': 2, 'created': {'type': '/type/datetime', 'value': '2017-12-16T04:50:00.965462'}, 'last_modified': {'type': '/type/datetime', 'value': '2022-12-04T21:59:43.921143'}}, {'key': '/works/OL21167846W', 'authors': [{'type': {'key': '/type/author_role'}, 'author': {'key': '/authors/OL891A'}}], 'title': 'The Mahatma and the missionary', 'subject_places': ['India'], 'subjects': ['Missions', 'Views on missions'], 'subject_people': ['Gandhi Mahatma (1869-1948)'], 'type': {'key': '/type/work'}, 'latest_revision': 2, 'revision': 2, 'created': {'type': '/type/datetime', 'value': '2020-08-09T23:12:37.599361'}, 'last_modified': {'type': '/type/datetime', 'value': '2022-12-04T21:59:43.921143'}}, {'type': {'key': '/type/work'}, 'title': 'Gandhi : an Autobiography : the Story of My Experiments with Truth', 'authors': [{'type': {'key': '/type/author_role'}, 'author': {'key': '/authors/OL10961930A'}}, {'type': {'key': '/type/author_role'}, 'author': {'key': '/authors/OL4194807A'}}, {'type': {'key': '/type/author_role'}, 'author': {'key': '/authors/OL891A'}}], 'key': '/works/OL29653600W', 'latest_revision': 2, 'revision': 2, 'created': {'type': '/type/datetime', 'value': '2022-11-21T07:55:24.911049'}, 'last_modified': {'type': '/type/datetime', 'value': '2022-12-04T21:59:43.921143'}}, {'type': {'key': '/type/work'}, 'title': 'Thus spoke Gandhi', 'subjects': ['Quotations', 'Citat', 'Politiker'], 'subject_places': ['Indien'], 'subject_times': ['1900-talet'], 'subject_people': ['Gandhi Mahatma (1869-1948)'], 'authors': [{'type': {'key': '/type/author_role'}, 'author': {'key': '/authors/OL891A'}}], 'covers': [12956999], 'key': '/works/OL29229127W', 'latest_revision': 2, 'revision': 2, 'created': {'type': '/type/datetime', 'value': '2022-10-20T08:42:35.385099'}, 'last_modified': {'type': '/type/datetime', 'value': '2022-12-04T21:59:43.921143'}}, {'title': 'Mahatma Gandhi speaks of his religion', 'subject_people': ['Gandhi Mahatma (1869-1948)'], 'key': '/works/OL20962428W', 'authors': [{'type': {'key': '/type/author_role'}, 'author': {'key': '/authors/OL891A'}}], 'type': {'key': '/type/work'}, 'covers': [10670497], 'latest_revision': 3, 'revision': 3, 'created': {'type': '/type/datetime', 'value': '2020-07-27T13:48:30.482101'}, 'last_modified': {'type': '/type/datetime', 'value': '2022-12-04T21:59:43.921143'}}, {'subject_people': ['Gandhi Mahatma (1869-1948)', 'Vallabhbhai Jhaverbhai Patel Sardar (1875-1950)'], 'key': '/works/OL17814694W', 'title': 'Letters to Sardar Vallabhbhai Patel', 'authors': [{'type': {'key': '/type/author_role'}, 'author': {'key': '/authors/OL891A'}}], 'type': {'key': '/type/work'}, 'covers': [8103237], 'latest_revision': 2, 'revision': 2, 'created': {'type': '/type/datetime', 'value': '2017-12-03T04:37:02.634848'}, 'last_modified': {'type': '/type/datetime', 'value': '2022-12-04T21:59:43.921143'}}, {'type': {'key': '/type/work'}, 'title': 'Mahatma Gandhi', 'authors': [{'type': {'key': '/type/author_role'}, 'author': {'key': '/authors/OL7624441A'}}, {'type': {'key': '/type/author_role'}, 'author': {'key': '/authors/OL891A'}}], 'key': '/works/OL30656293W', 'latest_revision': 2, 'revision': 2, 'created': {'type': '/type/datetime', 'value': '2022-11-30T07:31:39.027463'}, 'last_modified': {'type': '/type/datetime', 'value': '2022-12-04T21:59:43.921143'}}, {'title': 'The Wheel of Fortune (Classic Reprint)', 'covers': [8589466], 'key': '/works/OL19783083W', 'authors': [{'type': {'key': '/type/author_role'}, 'author': {'key': '/authors/OL891A'}}], 'type': {'key': '/type/work'}, 'latest_revision': 2, 'revision': 2, 'created': {'type': '/type/datetime', 'value': '2019-06-06T03:29:57.387909'}, 'last_modified': {'type': '/type/datetime', 'value': '2022-12-04T21:59:43.921143'}}, {'description': {'type': '/type/text', 'value': \"Translation of Mahatma Gandhi's Gujarati rendering of the Bhagavadgita.\"}, 'title': 'Anāsaktiyoga aura Gītābodha', 'key': '/works/OL23667335W', 'authors': [{'type': {'key': '/type/author_role'}, 'author': {'key': '/authors/OL891A'}}], 'type': {'key': '/type/work'}, 'latest_revision': 2, 'revision': 2, 'created': {'type': '/type/datetime', 'value': '2020-11-27T09:53:20.529128'}, 'last_modified': {'type': '/type/datetime', 'value': '2022-12-04T21:59:43.921143'}}, {'description': {'type': '/type/text', 'value': 'Contributed articles on the philosophy of Ghāsidāsa, b. 1756, Hindu religious leader and Mahatma Gandhi, 1869-1948, statesman and freedom fighter; published on the occasion of the 125th birth anniversary of Mahatma Gandhi, 1869-1948.'}, 'title': 'Saca kā safaranāmā', 'subject_places': ['India'], 'subjects': ['Passive resistance', 'Philosophy'], 'subject_people': ['Gandhi Mahatma (1869-1948)', 'Ghāsīdāsa (1756-)'], 'key': '/works/OL23666140W', 'authors': [{'type': {'key': '/type/author_role'}, 'author': {'key': '/authors/OL891A'}}], 'type': {'key': '/type/work'}, 'latest_revision': 2, 'revision': 2, 'created': {'type': '/type/datetime', 'value': '2020-11-27T08:20:21.267967'}, 'last_modified': {'type': '/type/datetime', 'value': '2022-12-04T21:59:43.921143'}}, {'key': '/works/OL19979430W', 'authors': [{'type': {'key': '/type/author_role'}, 'author': {'key': '/authors/OL891A'}}], 'title': 'Wo dui zhen li de shi yan', 'subject_places': ['India'], 'subjects': ['Biography', 'Statesmen'], 'subject_people': ['Gandhi Mahatma (1869-1948)'], 'type': {'key': '/type/work'}, 'latest_revision': 2, 'revision': 2, 'created': {'type': '/type/datetime', 'value': '2019-07-18T12:24:06.859402'}, 'last_modified': {'type': '/type/datetime', 'value': '2022-12-04T21:59:43.921143'}}, {'title': 'Hundred years of Gandhi', 'subject_people': ['Gandhi Mahatma (1869-1948)'], 'key': '/works/OL22584155W', 'authors': [{'type': {'key': '/type/author_role'}, 'author': {'key': '/authors/OL891A'}}, {'type': {'key': '/type/author_role'}, 'author': {'key': '/authors/OL375426A'}}], 'type': {'key': '/type/work'}, 'latest_revision': 2, 'revision': 2, 'created': {'type': '/type/datetime', 'value': '2020-10-14T21:53:24.214182'}, 'last_modified': {'type': '/type/datetime', 'value': '2022-12-04T21:59:43.921143'}}, {'description': {'type': '/type/text', 'value': 'Summary of an inter-religious conference held on 30th January 1999 at Gandhi Smriti and Darshan Samiti; transcript of speeches on the religious views of Mahatma Gandhi, 1869-1948, statesman and on the various religions practised in India.'}, 'title': 'Sabako sanmati de', 'subject_places': ['India'], 'subjects': ['Religion', 'Congresses'], 'subject_people': ['Gandhi Mahatma (1869-1948)'], 'key': '/works/OL22097584W', 'authors': [{'type': {'key': '/type/author_role'}, 'author': {'key': '/authors/OL891A'}}], 'type': {'key': '/type/work'}, 'latest_revision': 2, 'revision': 2, 'created': {'type': '/type/datetime', 'value': '2020-09-13T08:01:47.783108'}, 'last_modified': {'type': '/type/datetime', 'value': '2022-12-04T21:59:43.921143'}}]}\n"
     ]
    }
   ],
   "source": [
    "print(aut_works_info)"
   ]
  },
  {
   "cell_type": "code",
   "execution_count": null,
   "metadata": {},
   "outputs": [
    {
     "name": "stdout",
     "output_type": "stream",
     "text": [
      "{'book_name': ['Harry Potter and the Half-Blood Prince [2/2]', 'Harry Potter and the Goblet of Fire [1/4]', 'Harry Potter és a tűz serlege', 'Harry Potter a tajemná komnata', 'Harry Potter Hardcover Boxed Set', 'Harry Potter and the Half-Blood Prince', 'Harry Potter e a Pedra Filosofal', 'Harry Potter and the Chamber of Secrets', 'Harry Potter and the Prisoner of Azkaban', 'Harry Potter and the Half-Blood Prince (SparkNotes Literature Guide)', 'Harry Potter and the Chamber of Secrets (SparkNotes Literature Guide)', 'Harry Potter and the Deathly Hallows', 'Harry Potter', 'Harry Potter and the Prisoner of Azkaban (SparkNotes Literature Guide)', 'Harry Potter and the Order of the Phoenix (SparkNotes Literature Guide)', 'Harry Potter and the Goblet of Fire', 'Harry Potter and the Prisoner of Azkaban Transforming Pictures Book', 'Harry Potter e il prigioniero di Azkaban', \"Harry Potter and the Philosopher's Stone 1\", 'Harry Potter a ohnivý pohár', 'Harry Potter and the Prisoner of Azkaban Painting Book', 'Harry Potter and the Order of the Phoenix', \"Harry Potter and the Philosopher's Stone\", 'Harry Potter and the Deathly Hallows (SparkNotes Literature Guide)', 'Harry Potter and the Prisoner of Azkaban Pull-Out Poster Book', \"Harry Potter and the Sorcerer's Stone\", 'Harry Potter and the Goblet of Fire (SparkNotes Literature Guide)', 'Tajemnice Dumbledore’a', 'Ein plötzlicher Todesfall', 'Harry Potter and the Goblet of Fire', \"Harry Potter Et L'ordre Du Phénix\", 'Harry Potter and the Deathly Hallows', 'Fantastic Beasts', 'Fantastic Beasts & Where to Find Them', 'Fantastik Canavarlar Nelerdir, Nerede Bulunurlar?', 'Fantastic Beasts & Where to Find Them', 'Ikabog', 'دودة الحرير', 'Der Seidenspinner', \"Cormoran Strike Novels, Books 1-4 : (the Cuckoo's Calling, the Silkworm, Career of Evil, Lethal White)\", 'Ink Black Heart', 'Lethal White', 'Career of Evil', 'Los Crímenes de Grindelwald / Fantastic Beasts', 'Canto del Cuco', 'Zabójcza biel', 'Harry Potter House Slytherin Edition Series 11-15', 'Quidditch Through the Ages', 'Harry Potter House Ravenclaw Edition Series 16-20', 'J.K. Rowling Collection 3 Books Set'], 'publish_year': [2005, 2005, 2012, 2002, 2023, 2005, 2020, 1998, 1999, 2014, 2014, 2007, 2007, 2014, 2014, 1999, 2004, 2012, 2015, 2003, 2004, 2000, 1997, 2014, 2004, 2010, 2014, 2022, 2012, 1999, 2017, 2007, 2001, 2001, 2018, 2001, 2020, 2018, 2014, 2020, 2022, 2018, 2015, 2022, 2013, 2018, 2020, 2001, 2020, 2020]}\n"
     ]
    }
   ],
   "source": [
    "import requests\n",
    "\n",
    "author_name = input().lower().replace(' ','+')\n",
    "resp = requests.get(f\"https://openlibrary.org/search/authors.json?q={author_name}\")\n",
    "info = resp.json()\n",
    "aut_key = info['docs'][0]['key']\n",
    "aut_works = requests.get(f\"https://openlibrary.org/authors/{aut_key}/works.json\")\n",
    "aut_works_info = aut_works.json()\n",
    "book_title_dict={'book_name': [] , 'publish_year': []}\n",
    "for i in range(50):\n",
    "    resp1 = requests.get(f\"http://openlibrary.org/search.json?title={aut_works_info['entries'][i]['title']}\")\n",
    "    info1 = resp1.json()\n",
    "    info1['docs'][0]['first_publish_year']\n",
    "    book_title_dict['book_name'].append(aut_works_info['entries'][i]['title'])\n",
    "    book_title_dict['publish_year'].append(info1['docs'][0]['first_publish_year'])\n",
    "    \n",
    "print(book_title_dict)"
   ]
  },
  {
   "cell_type": "code",
   "execution_count": 45,
   "metadata": {},
   "outputs": [
    {
     "name": "stdout",
     "output_type": "stream",
     "text": [
      "22\n",
      "[1997, 1998, 1999, 1999, 1999, 2000, 2001, 2001, 2001, 2001, 2002, 2003, 2004, 2004, 2004, 2005, 2005, 2005, 2007, 2007, 2007, 2010, 2012, 2012, 2012, 2013, 2014, 2014, 2014, 2014, 2014, 2014, 2014, 2015, 2015, 2017, 2018, 2018, 2018, 2018, 2020, 2020, 2020, 2020, 2020, 2020, 2022, 2022, 2022, 2023]\n"
     ]
    }
   ],
   "source": [
    "print(book_title_dict['publish_year'].index(min(book_title_dict['publish_year'])))\n",
    "print(sorted(book_title_dict['publish_year']))\n",
    "print"
   ]
  },
  {
   "cell_type": "code",
   "execution_count": 56,
   "metadata": {},
   "outputs": [
    {
     "ename": "KeyError",
     "evalue": "1997",
     "output_type": "error",
     "traceback": [
      "\u001b[1;31m---------------------------------------------------------------------------\u001b[0m",
      "\u001b[1;31mKeyError\u001b[0m                                  Traceback (most recent call last)",
      "Cell \u001b[1;32mIn [56], line 2\u001b[0m\n\u001b[0;32m      1\u001b[0m \u001b[39mfor\u001b[39;00m i \u001b[39min\u001b[39;00m \u001b[39msorted\u001b[39m(book_title_dict\u001b[39m.\u001b[39mvalues()):\n\u001b[1;32m----> 2\u001b[0m         \u001b[39mprint\u001b[39m(i, book_title_dict[i])\n",
      "\u001b[1;31mKeyError\u001b[0m: 1997"
     ]
    }
   ],
   "source": [
    "for i in sorted(book_title_dict.values()):\n",
    "        print(i, book_title_dict[i])"
   ]
  }
 ],
 "metadata": {
  "kernelspec": {
   "display_name": "Python 3 (ipykernel)",
   "language": "python",
   "name": "python3"
  },
  "language_info": {
   "codemirror_mode": {
    "name": "ipython",
    "version": 3
   },
   "file_extension": ".py",
   "mimetype": "text/x-python",
   "name": "python",
   "nbconvert_exporter": "python",
   "pygments_lexer": "ipython3",
   "version": "3.10.2"
  },
  "vscode": {
   "interpreter": {
    "hash": "e8899eb02dfbc033aab5733bdae1bd213fa031d40331094008e8673d99ebab63"
   }
  }
 },
 "nbformat": 4,
 "nbformat_minor": 2
}
