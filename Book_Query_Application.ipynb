{
 "cells": [
  {
   "cell_type": "code",
   "execution_count": 1,
   "metadata": {},
   "outputs": [],
   "source": [
    "import requests\n",
    "resp = requests.get(\"http://openlibrary.org/search.json?title=to+kill+a+mockingbird\")"
   ]
  },
  {
   "cell_type": "code",
   "execution_count": 2,
   "metadata": {},
   "outputs": [],
   "source": [
    "info = resp.json() #info is a dictionary"
   ]
  },
  {
   "cell_type": "code",
   "execution_count": 9,
   "metadata": {},
   "outputs": [
    {
     "name": "stdout",
     "output_type": "stream",
     "text": [
      "the fountainhead\n",
      "Author of the fountainhead is Ayn Rand. It was first published in 1943\n"
     ]
    }
   ],
   "source": [
    "import requests\n",
    "\n",
    "book_name = input()\n",
    "query_book = book_name.lower()\n",
    "query_book = query_book.replace(' ','+')\n",
    "#print(query_book)\n",
    "\n",
    "resp = requests.get(f\"http://openlibrary.org/search.json?title={query_book}\")\n",
    "info = resp.json()\n",
    "author_name = info['docs'][0]['author_name'][0]\n",
    "publishing_year = info['docs'][0]['first_publish_year']\n",
    "\n",
    "print(f\"Author of {book_name} is {author_name}. It was first published in {publishing_year}\")"
   ]
  },
  {
   "cell_type": "code",
   "execution_count": 10,
   "metadata": {},
   "outputs": [
    {
     "name": "stdout",
     "output_type": "stream",
     "text": [
      "the fountainhead \n",
      "['']\n",
      "Author of the fountainhead  is Ayn Rand. It was first published in 1943\n",
      "Author of the fountainhead  is Erskine, Ralph. It was first published in 1740\n",
      "Author of the fountainhead  is Ayn Rand. It was first published in 1943\n",
      "Author of the fountainhead  is Ganga Prasad Upadhyaya. It was first published in 1916\n",
      "Author of the fountainhead  is Donald Leslie Johnson. It was first published in 2005\n"
     ]
    }
   ],
   "source": [
    "import requests\n",
    "\n",
    "book_name = input()\n",
    "query_book = book_name.lower()\n",
    "query_book = query_book.replace(' ','+')\n",
    "#print(query_book)\n",
    "\n",
    "resp = requests.get(f\"http://openlibrary.org/search.json?title={query_book}\")\n",
    "info = resp.json()\n",
    "\n",
    "print(info['docs'][0]['id_amazon'])\n",
    "for i in range(5):\n",
    "    author_name = info['docs'][i]['author_name'][0]\n",
    "    publishing_year = info['docs'][i]['first_publish_year']\n",
    "\n",
    "    print(f\"Author of {book_name} is {author_name}. It was first published in {publishing_year}\")\n"
   ]
  },
  {
   "cell_type": "code",
   "execution_count": 16,
   "metadata": {},
   "outputs": [
    {
     "name": "stderr",
     "output_type": "stream",
     "text": [
      "C:\\Users\\harsh\\AppData\\Local\\Temp\\ipykernel_3088\\440302663.py:4: DtypeWarning: Columns (2) have mixed types. Specify dtype option on import or set low_memory=False.\n",
      "  rating = pd.read_csv(\"rating.csv\", sep=\"\\t\", header=None)\n"
     ]
    },
    {
     "data": {
      "text/html": [
       "<div>\n",
       "<style scoped>\n",
       "    .dataframe tbody tr th:only-of-type {\n",
       "        vertical-align: middle;\n",
       "    }\n",
       "\n",
       "    .dataframe tbody tr th {\n",
       "        vertical-align: top;\n",
       "    }\n",
       "\n",
       "    .dataframe thead th {\n",
       "        text-align: right;\n",
       "    }\n",
       "</style>\n",
       "<table border=\"1\" class=\"dataframe\">\n",
       "  <thead>\n",
       "    <tr style=\"text-align: right;\">\n",
       "      <th></th>\n",
       "      <th>0</th>\n",
       "      <th>1</th>\n",
       "      <th>2</th>\n",
       "      <th>3</th>\n",
       "    </tr>\n",
       "  </thead>\n",
       "  <tbody>\n",
       "    <tr>\n",
       "      <th>0</th>\n",
       "      <td>Works</td>\n",
       "      <td>Books</td>\n",
       "      <td>Rating</td>\n",
       "      <td>Date</td>\n",
       "    </tr>\n",
       "    <tr>\n",
       "      <th>1</th>\n",
       "      <td>/works/OL17882343W</td>\n",
       "      <td>NaN</td>\n",
       "      <td>3</td>\n",
       "      <td>2018-06-20</td>\n",
       "    </tr>\n",
       "    <tr>\n",
       "      <th>2</th>\n",
       "      <td>/works/OL1629179W</td>\n",
       "      <td>/books/OL22981670M</td>\n",
       "      <td>5</td>\n",
       "      <td>2018-06-20</td>\n",
       "    </tr>\n",
       "    <tr>\n",
       "      <th>3</th>\n",
       "      <td>/works/OL4226036W</td>\n",
       "      <td>/books/OL10690412M</td>\n",
       "      <td>5</td>\n",
       "      <td>2018-06-20</td>\n",
       "    </tr>\n",
       "    <tr>\n",
       "      <th>4</th>\n",
       "      <td>/works/OL5264255W</td>\n",
       "      <td>/books/OL2719185M</td>\n",
       "      <td>5</td>\n",
       "      <td>2018-06-20</td>\n",
       "    </tr>\n",
       "  </tbody>\n",
       "</table>\n",
       "</div>"
      ],
      "text/plain": [
       "                    0                   1       2           3\n",
       "0               Works               Books  Rating        Date\n",
       "1  /works/OL17882343W                 NaN       3  2018-06-20\n",
       "2   /works/OL1629179W  /books/OL22981670M       5  2018-06-20\n",
       "3   /works/OL4226036W  /books/OL10690412M       5  2018-06-20\n",
       "4   /works/OL5264255W   /books/OL2719185M       5  2018-06-20"
      ]
     },
     "execution_count": 16,
     "metadata": {},
     "output_type": "execute_result"
    }
   ],
   "source": [
    "import pandas as pd\n",
    "import numpy as np\n",
    "\n",
    "rating = pd.read_csv(\"rating.csv\", sep=\"\\t\", header=None)\n",
    "rating.head()"
   ]
  },
  {
   "cell_type": "code",
   "execution_count": 40,
   "metadata": {},
   "outputs": [
    {
     "name": "stdout",
     "output_type": "stream",
     "text": [
      "Zahir\n",
      "Nelabais un senjorita Prima\n",
      "Peregrino, El\n",
      "La Quinta Montana\n",
      "Pilgrimage\n"
     ]
    }
   ],
   "source": [
    "import requests\n",
    "\n",
    "author_name = input().lower().replace(' ','+')\n",
    "resp = requests.get(f\"https://openlibrary.org/search/authors.json?q={author_name}\")\n",
    "info = resp.json()\n",
    "aut_key = info['docs'][0]['key']\n",
    "aut_works = requests.get(f\"https://openlibrary.org/authors/{aut_key}/works.json\")\n",
    "aut_works_info = aut_works.json()\n",
    "for i in range(5):\n",
    "    print(aut_works_info['entries'][i]['title'])"
   ]
  }
 ],
 "metadata": {
  "kernelspec": {
   "display_name": "Python 3 (ipykernel)",
   "language": "python",
   "name": "python3"
  },
  "language_info": {
   "codemirror_mode": {
    "name": "ipython",
    "version": 3
   },
   "file_extension": ".py",
   "mimetype": "text/x-python",
   "name": "python",
   "nbconvert_exporter": "python",
   "pygments_lexer": "ipython3",
   "version": "3.10.2"
  },
  "vscode": {
   "interpreter": {
    "hash": "e8899eb02dfbc033aab5733bdae1bd213fa031d40331094008e8673d99ebab63"
   }
  }
 },
 "nbformat": 4,
 "nbformat_minor": 2
}
